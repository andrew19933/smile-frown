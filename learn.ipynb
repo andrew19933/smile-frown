{
 "cells": [
  {
   "cell_type": "code",
   "execution_count": 1,
   "id": "fc9d3ca4-5af8-4921-b9a6-39987853a0a9",
   "metadata": {},
   "outputs": [],
   "source": [
    "import tensorflow as tf\n",
    "import numpy as np\n",
    "import pandas as pd"
   ]
  },
  {
   "cell_type": "code",
   "execution_count": 6,
   "id": "2a113b89-cdcd-41f0-a409-d51a5c62a00e",
   "metadata": {},
   "outputs": [],
   "source": [
    "smileData = np.load('data/smiley_faces.npy')\n",
    "upsidedownSmileData = np.load('data/upside_down_faces.npy')"
   ]
  },
  {
   "cell_type": "code",
   "execution_count": 131,
   "id": "96107733-607a-4e6b-8d84-910f6cb39a9f",
   "metadata": {},
   "outputs": [],
   "source": [
    "# merge and normalize the data\n",
    "data = np.concatenate((smileData, upsidedownSmileData)) / 255.0\n",
    "\n",
    "# create labels (0 = rightside up, 1 = upside down)\n",
    "labels = np.concatenate((np.zeros(smileData.shape[0]), np.ones(upsidedownSmileData.shape[0])))\n",
    "\n",
    "# randomize and split data into training and test sets\n",
    "N = labels.shape[0]\n",
    "newOrder = np.arange(N)\n",
    "np.random.shuffle(newOrder)\n",
    "\n",
    "data = data[newOrder]\n",
    "labels = labels[newOrder]\n",
    "\n",
    "splitPos = int(.6 * N) # use 60% of data for training\n",
    "data_training, labels_training = data[:splitPos], labels[:splitPos]\n",
    "data_test, labels_test = data[splitPos:], labels[splitPos:]"
   ]
  },
  {
   "cell_type": "code",
   "execution_count": 147,
   "id": "586c5bdf-b213-4aa0-892e-f08012eebad2",
   "metadata": {},
   "outputs": [
    {
     "name": "stdout",
     "output_type": "stream",
     "text": [
      "Epoch 1/15\n",
      "4665/4665 [==============================] - 5s 934us/step - loss: 0.1600 - accuracy: 0.9334\n",
      "Epoch 2/15\n",
      "4665/4665 [==============================] - 4s 933us/step - loss: 0.0942 - accuracy: 0.9629\n",
      "Epoch 3/15\n",
      "4665/4665 [==============================] - 4s 949us/step - loss: 0.0783 - accuracy: 0.9695\n",
      "Epoch 4/15\n",
      "4665/4665 [==============================] - 4s 940us/step - loss: 0.0667 - accuracy: 0.9738\n",
      "Epoch 5/15\n",
      "4665/4665 [==============================] - 4s 939us/step - loss: 0.0580 - accuracy: 0.9772\n",
      "Epoch 6/15\n",
      "4665/4665 [==============================] - 4s 925us/step - loss: 0.0498 - accuracy: 0.9807\n",
      "Epoch 7/15\n",
      "4665/4665 [==============================] - 4s 926us/step - loss: 0.0433 - accuracy: 0.9832\n",
      "Epoch 8/15\n",
      "4665/4665 [==============================] - 4s 934us/step - loss: 0.0383 - accuracy: 0.9851\n",
      "Epoch 9/15\n",
      "4665/4665 [==============================] - 4s 916us/step - loss: 0.0333 - accuracy: 0.9872\n",
      "Epoch 10/15\n",
      "4665/4665 [==============================] - 4s 901us/step - loss: 0.0290 - accuracy: 0.9889\n",
      "Epoch 11/15\n",
      "4665/4665 [==============================] - 4s 903us/step - loss: 0.0259 - accuracy: 0.9901\n",
      "Epoch 12/15\n",
      "4665/4665 [==============================] - 4s 904us/step - loss: 0.0229 - accuracy: 0.9914\n",
      "Epoch 13/15\n",
      "4665/4665 [==============================] - 4s 902us/step - loss: 0.0217 - accuracy: 0.9918\n",
      "Epoch 14/15\n",
      "4665/4665 [==============================] - 4s 930us/step - loss: 0.0197 - accuracy: 0.9929\n",
      "Epoch 15/15\n",
      "4665/4665 [==============================] - 4s 929us/step - loss: 0.0174 - accuracy: 0.9935\n"
     ]
    },
    {
     "data": {
      "text/plain": [
       "<keras.callbacks.History at 0x273fe999240>"
      ]
     },
     "execution_count": 147,
     "metadata": {},
     "output_type": "execute_result"
    }
   ],
   "source": [
    "# set up and train the model\n",
    "model = tf.keras.Sequential([\n",
    "    tf.keras.layers.Dense(128, activation='relu'),\n",
    "    tf.keras.layers.Dense(2)\n",
    "])\n",
    "\n",
    "model.compile(optimizer='adam',\n",
    "              loss=tf.keras.losses.SparseCategoricalCrossentropy(from_logits=True),\n",
    "              metrics=['accuracy'])\n",
    "\n",
    "model.fit(data_training, labels_training, epochs=15)"
   ]
  },
  {
   "cell_type": "code",
   "execution_count": 148,
   "id": "064c01cd-fcee-49c5-9e97-bc009ec77c5e",
   "metadata": {},
   "outputs": [
    {
     "name": "stdout",
     "output_type": "stream",
     "text": [
      "3110/3110 - 2s - loss: 0.1864 - accuracy: 0.9602 - 2s/epoch - 663us/step\n",
      "\n",
      "Test accuracy: 0.9601644277572632\n"
     ]
    }
   ],
   "source": [
    "# test the model\n",
    "test_loss, test_acc = model.evaluate(data_test,  labels_test, verbose=2)\n",
    "print('\\nTest accuracy:', test_acc)"
   ]
  },
  {
   "cell_type": "markdown",
   "id": "d4d44cf1-4d5e-4ca4-982a-a3fb6f10c792",
   "metadata": {},
   "source": [
    "Evaluate the model on data I created"
   ]
  },
  {
   "cell_type": "code",
   "execution_count": 217,
   "id": "8d62eddf-8b97-4b65-92d0-22880b1d1ed7",
   "metadata": {},
   "outputs": [
    {
     "name": "stdout",
     "output_type": "stream",
     "text": [
      "Saved as C:\\Users\\Andrew Ballin\\projects\\smile-frown\\data\\mysmiley1.npy\n",
      "Saved as C:\\Users\\Andrew Ballin\\projects\\smile-frown\\data\\mysmiley2.npy\n",
      "Saved as C:\\Users\\Andrew Ballin\\projects\\smile-frown\\data\\mysmiley3.npy\n",
      "Saved as C:\\Users\\Andrew Ballin\\projects\\smile-frown\\data\\myupside1.npy\n",
      "Saved as C:\\Users\\Andrew Ballin\\projects\\smile-frown\\data\\myupside2.npy\n",
      "Saved as C:\\Users\\Andrew Ballin\\projects\\smile-frown\\data\\myupside3.npy\n"
     ]
    }
   ],
   "source": [
    "# convert my PNGs to .npy\n",
    "from data.png2npy import *\n",
    "import os\n",
    "from os import listdir\n",
    " \n",
    "cwd = os.getcwd()\n",
    "data_path = os.path.join(cwd,'data')\n",
    "\n",
    "for images in os.listdir(data_path):\n",
    "    # check if the image ends with png\n",
    "    if (images.endswith(\".png\")):\n",
    "        png2npy(os.path.join(data_path,images))"
   ]
  },
  {
   "cell_type": "code",
   "execution_count": 218,
   "id": "7df6f6f1-6bf7-4995-989a-2975e5b5cc00",
   "metadata": {},
   "outputs": [],
   "source": [
    "newData = np.stack((\n",
    "    np.load('data/mysmiley1.npy'),\n",
    "    np.load('data/mysmiley2.npy'), \n",
    "    np.load('data/mysmiley3.npy'),\n",
    "    np.load('data/myupside1.npy'),\n",
    "    np.load('data/myupside2.npy'),\n",
    "    np.load('data/myupside3.npy')\n",
    "))"
   ]
  },
  {
   "cell_type": "code",
   "execution_count": 219,
   "id": "2cca8e62-5cb5-4db2-b461-2aff1e827034",
   "metadata": {},
   "outputs": [
    {
     "name": "stdout",
     "output_type": "stream",
     "text": [
      "1/1 [==============================] - 0s 33ms/step\n"
     ]
    }
   ],
   "source": [
    "# evaluate the model on 'new' inputs\n",
    "probability_model = tf.keras.Sequential([model, tf.keras.layers.Softmax()])\n",
    "predictions = probability_model.predict(newData)"
   ]
  },
  {
   "cell_type": "code",
   "execution_count": 220,
   "id": "800c497d-e962-46f0-9549-8cefee8d9b7a",
   "metadata": {},
   "outputs": [
    {
     "data": {
      "text/plain": [
       "array([[5.8588475e-01, 4.1411525e-01],\n",
       "       [8.6583853e-01, 1.3416149e-01],\n",
       "       [9.8210686e-01, 1.7893171e-02],\n",
       "       [1.6677950e-06, 9.9999833e-01],\n",
       "       [1.6269341e-01, 8.3730662e-01],\n",
       "       [1.1295720e-01, 8.8704282e-01]], dtype=float32)"
      ]
     },
     "execution_count": 220,
     "metadata": {},
     "output_type": "execute_result"
    }
   ],
   "source": [
    "predictions"
   ]
  },
  {
   "cell_type": "code",
   "execution_count": 221,
   "id": "3ec1f754-ffed-415e-8eb3-b91cf4358f40",
   "metadata": {},
   "outputs": [
    {
     "data": {
      "image/png": "[encoded data removed]",
      "text/plain": [
       "<Figure size 144x216 with 6 Axes>"
      ]
     },
     "metadata": {},
     "output_type": "display_data"
    }
   ],
   "source": [
    "plt.figure(figsize=(2,3))\n",
    "for i in range(6):\n",
    "    plt.subplot(2,3,i+1)\n",
    "    plt.xticks([])\n",
    "    plt.yticks([])\n",
    "    plt.grid(False)\n",
    "    plt.imshow(newData[i].reshape((28,28)), cmap=plt.cm.binary)\n",
    "plt.show()"
   ]
  },
  {
   "cell_type": "code",
   "execution_count": null,
   "id": "577a69ef-841b-4f39-97e7-9437af27fc2c",
   "metadata": {},
   "outputs": [],
   "source": []
  }
 ],
 "metadata": {
  "kernelspec": {
   "display_name": "Python 3 (ipykernel)",
   "language": "python",
   "name": "python3"
  },
  "language_info": {
   "codemirror_mode": {
    "name": "ipython",
    "version": 3
   },
   "file_extension": ".py",
   "mimetype": "text/x-python",
   "name": "python",
   "nbconvert_exporter": "python",
   "pygments_lexer": "ipython3",
   "version": "3.10.5"
  }
 },
 "nbformat": 4,
 "nbformat_minor": 5
}
